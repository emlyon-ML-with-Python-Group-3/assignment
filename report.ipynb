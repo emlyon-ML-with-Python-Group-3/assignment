{
 "cells": [
  {
   "cell_type": "code",
   "execution_count": 127,
   "outputs": [],
   "source": [
    "import json\n",
    "import pandas as pd\n",
    "from twarc.expansions import flatten\n",
    "\n",
    "def json_to_pandas(file: object) -> pd.DataFrame:\n",
    "    \"\"\"\n",
    "    Converts a json file output by the Twarc search command line method into a pandas dataframe\n",
    "    :param file: Filepath of file outputted by Twarc\n",
    "    :return: pd.Dataframe A combined dataframe of all tweets\n",
    "    \"\"\"\n",
    "    def flatten_json(json_object):\n",
    "        with open(json_object, \"r\") as infile:\n",
    "            data = [flatten(json.loads(line)) for line in infile]\n",
    "\n",
    "        return data\n",
    "\n",
    "    return pd.concat(list(map(pd.DataFrame.from_dict, flatten_json(file)))).reset_index(drop=True)"
   ],
   "metadata": {
    "collapsed": false,
    "pycharm": {
     "name": "#%%\n"
    }
   }
  },
  {
   "cell_type": "code",
   "execution_count": null,
   "outputs": [],
   "source": [
    "def dict_to_cols(df, col, prefix=\"\"):\n",
    "    tmp = pd.json_normalize(df[col]).add_prefix(prefix)\n",
    "    df.drop(columns=[col], inplace=True)\n",
    "    return pd.concat([df, tmp], axis=1)"
   ],
   "metadata": {
    "collapsed": false,
    "pycharm": {
     "name": "#%%\n"
    }
   }
  },
  {
   "cell_type": "code",
   "execution_count": 152,
   "outputs": [],
   "source": [
    "def transform_data(path_):\n",
    "    nested_cols = [\n",
    "        {'col': 'attachments', 'prefix': 'attachment_'},\n",
    "        {'col': 'entities', 'prefix': 'entities_'},\n",
    "        {'col': 'public_metrics', 'prefix': 'public_metrics_'},\n",
    "        {'col': 'author', 'prefix': 'author_'},\n",
    "        {'col': '__twarc', 'prefix': '__twarc_'},\n",
    "        {'col': 'in_reply_to_user', 'prefix': 'in_reply_to_user_'},\n",
    "        {'col': 'referenced_tweets', 'prefix': 'referenced_tweets_'}\n",
    "    ]\n",
    "\n",
    "    df = json_to_pandas(path_)\n",
    "    df['referenced_tweets'] = df['referenced_tweets'].apply(lambda x: x[0] if isinstance(x, list) else x)\n",
    "    df.drop(columns=['context_annotations'], inplace=True)\n",
    "    for col in nested_cols:\n",
    "        df = dict_to_cols(df, col['col'], col['prefix'])\n",
    "    return df"
   ],
   "metadata": {
    "collapsed": false,
    "pycharm": {
     "name": "#%%\n"
    }
   }
  },
  {
   "cell_type": "code",
   "execution_count": 157,
   "outputs": [
    {
     "name": "stdout",
     "output_type": "stream",
     "text": [
      "data/tweets_m/stream.jsonl\n",
      "data/tweets_m/green.json\n",
      "data/tweets_m/steam2.jsonl\n",
      "data/tweets_m/sustainable.json\n",
      "data/tweets_m/stream1.jsonl\n",
      "data/tweets_m/climate.json\n"
     ]
    }
   ],
   "source": [
    "import os\n",
    "dfs = []\n",
    "for file in os.listdir('./data/tweets_m'):\n",
    "    print(os.path.join('data/tweets_m', file))\n",
    "    dfs.append(transform_data(os.path.join('./data/', file)))"
   ],
   "metadata": {
    "collapsed": false,
    "pycharm": {
     "name": "#%%\n"
    }
   }
  },
  {
   "cell_type": "code",
   "execution_count": 159,
   "outputs": [
    {
     "data": {
      "text/plain": "                author_id      conversation_id                created_at  \\\n0               453228928  1493696019955167235  2022-02-16T13:48:29.000Z   \n1               133814603  1493945376453402627  2022-02-16T13:48:29.000Z   \n2     1235695675175821312  1493945383529025544  2022-02-16T13:48:30.000Z   \n3                21150492  1493918236835995652  2022-02-16T13:48:30.000Z   \n4     1416815310217359365  1493490191767830531  2022-02-16T13:48:32.000Z   \n...                   ...                  ...                       ...   \n8261            152459817  1493962976273047558  2022-02-16T14:58:24.000Z   \n8262  1275156115051950081  1493962978802163714  2022-02-16T14:58:25.000Z   \n8263              6534322  1493962973076992000  2022-02-16T14:58:24.000Z   \n8264   906977492027809792  1493962977866924037  2022-02-16T14:58:25.000Z   \n8265  1474168124786319373  1493693753386745859  2022-02-16T14:58:26.000Z   \n\n                                                    geo                   id  \\\n0                                                    {}  1493945378919653379   \n1                                                    {}  1493945381956329478   \n2                                                    {}  1493945383529025544   \n3                                                    {}  1493945386012233730   \n4                                                    {}  1493945391833915394   \n...                                                 ...                  ...   \n8261  {'place_id': '2635a5d0aa51ce86', 'country': 'U...  1493962976273047558   \n8262                                                 {}  1493962978802163714   \n8263                                                 {}  1493962977308983302   \n8264                                                 {}  1493962977866924037   \n8265                                                 {}  1493962982841270281   \n\n      in_reply_to_user_id lang  possibly_sensitive reply_settings  \\\n0     1398357037545820167   en               False       everyone   \n1               133814603   en               False       everyone   \n2                     NaN   en               False       everyone   \n3                21150492   en               False       everyone   \n4     1404944124906770432   en               False       everyone   \n...                   ...  ...                 ...            ...   \n8261                  NaN   en               False       everyone   \n8262                  NaN   en               False       everyone   \n8263              6534322   en               False       everyone   \n8264                  NaN   en               False       everyone   \n8265  1448844361844895746   en               False       everyone   \n\n                   source  ... referenced_tweets_geo.full_name  \\\n0     Twitter for Android  ...                             NaN   \n1         Twitter Web App  ...                             NaN   \n2     SocialRabbit Plugin  ...                             NaN   \n3         Twitter Web App  ...                             NaN   \n4     Twitter for Android  ...                             NaN   \n...                   ...  ...                             ...   \n8261   Twitter for iPhone  ...                             NaN   \n8262  Twitter for Android  ...                             NaN   \n8263      Twitter Web App  ...                             NaN   \n8264  Twitter for Android  ...                             NaN   \n8265  Twitter for Android  ...                             NaN   \n\n     referenced_tweets_geo.geo.type referenced_tweets_geo.geo.bbox  \\\n0                               NaN                            NaN   \n1                               NaN                            NaN   \n2                               NaN                            NaN   \n3                               NaN                            NaN   \n4                               NaN                            NaN   \n...                             ...                            ...   \n8261                            NaN                            NaN   \n8262                            NaN                            NaN   \n8263                            NaN                            NaN   \n8264                            NaN                            NaN   \n8265                            NaN                            NaN   \n\n     referenced_tweets_geo.id  referenced_tweets_geo.name  \\\n0                         NaN                         NaN   \n1                         NaN                         NaN   \n2                         NaN                         NaN   \n3                         NaN                         NaN   \n4                         NaN                         NaN   \n...                       ...                         ...   \n8261                      NaN                         NaN   \n8262                      NaN                         NaN   \n8263                      NaN                         NaN   \n8264                      NaN                         NaN   \n8265                      NaN                         NaN   \n\n     referenced_tweets_geo.place_type referenced_tweets_attachments.poll_ids  \\\n0                                 NaN                                    NaN   \n1                                 NaN                                    NaN   \n2                                 NaN                                    NaN   \n3                                 NaN                                    NaN   \n4                                 NaN                                    NaN   \n...                               ...                                    ...   \n8261                              NaN                                    NaN   \n8262                              NaN                                    NaN   \n8263                              NaN                                    NaN   \n8264                              NaN                                    NaN   \n8265                              NaN                                    NaN   \n\n     referenced_tweets_withheld.copyright  \\\n0                                     NaN   \n1                                     NaN   \n2                                     NaN   \n3                                     NaN   \n4                                     NaN   \n...                                   ...   \n8261                                  NaN   \n8262                                  NaN   \n8263                                  NaN   \n8264                                  NaN   \n8265                                  NaN   \n\n     referenced_tweets_withheld.country_codes  \\\n0                                         NaN   \n1                                         NaN   \n2                                         NaN   \n3                                         NaN   \n4                                         NaN   \n...                                       ...   \n8261                                      NaN   \n8262                                      NaN   \n8263                                      NaN   \n8264                                      NaN   \n8265                                      NaN   \n\n     referenced_tweets_author.withheld.country_codes  \n0                                                NaN  \n1                                                NaN  \n2                                                NaN  \n3                                                NaN  \n4                                                NaN  \n...                                              ...  \n8261                                             NaN  \n8262                                             NaN  \n8263                                             NaN  \n8264                                             NaN  \n8265                                             NaN  \n\n[49596 rows x 148 columns]",
      "text/html": "<div>\n<style scoped>\n    .dataframe tbody tr th:only-of-type {\n        vertical-align: middle;\n    }\n\n    .dataframe tbody tr th {\n        vertical-align: top;\n    }\n\n    .dataframe thead th {\n        text-align: right;\n    }\n</style>\n<table border=\"1\" class=\"dataframe\">\n  <thead>\n    <tr style=\"text-align: right;\">\n      <th></th>\n      <th>author_id</th>\n      <th>conversation_id</th>\n      <th>created_at</th>\n      <th>geo</th>\n      <th>id</th>\n      <th>in_reply_to_user_id</th>\n      <th>lang</th>\n      <th>possibly_sensitive</th>\n      <th>reply_settings</th>\n      <th>source</th>\n      <th>...</th>\n      <th>referenced_tweets_geo.full_name</th>\n      <th>referenced_tweets_geo.geo.type</th>\n      <th>referenced_tweets_geo.geo.bbox</th>\n      <th>referenced_tweets_geo.id</th>\n      <th>referenced_tweets_geo.name</th>\n      <th>referenced_tweets_geo.place_type</th>\n      <th>referenced_tweets_attachments.poll_ids</th>\n      <th>referenced_tweets_withheld.copyright</th>\n      <th>referenced_tweets_withheld.country_codes</th>\n      <th>referenced_tweets_author.withheld.country_codes</th>\n    </tr>\n  </thead>\n  <tbody>\n    <tr>\n      <th>0</th>\n      <td>453228928</td>\n      <td>1493696019955167235</td>\n      <td>2022-02-16T13:48:29.000Z</td>\n      <td>{}</td>\n      <td>1493945378919653379</td>\n      <td>1398357037545820167</td>\n      <td>en</td>\n      <td>False</td>\n      <td>everyone</td>\n      <td>Twitter for Android</td>\n      <td>...</td>\n      <td>NaN</td>\n      <td>NaN</td>\n      <td>NaN</td>\n      <td>NaN</td>\n      <td>NaN</td>\n      <td>NaN</td>\n      <td>NaN</td>\n      <td>NaN</td>\n      <td>NaN</td>\n      <td>NaN</td>\n    </tr>\n    <tr>\n      <th>1</th>\n      <td>133814603</td>\n      <td>1493945376453402627</td>\n      <td>2022-02-16T13:48:29.000Z</td>\n      <td>{}</td>\n      <td>1493945381956329478</td>\n      <td>133814603</td>\n      <td>en</td>\n      <td>False</td>\n      <td>everyone</td>\n      <td>Twitter Web App</td>\n      <td>...</td>\n      <td>NaN</td>\n      <td>NaN</td>\n      <td>NaN</td>\n      <td>NaN</td>\n      <td>NaN</td>\n      <td>NaN</td>\n      <td>NaN</td>\n      <td>NaN</td>\n      <td>NaN</td>\n      <td>NaN</td>\n    </tr>\n    <tr>\n      <th>2</th>\n      <td>1235695675175821312</td>\n      <td>1493945383529025544</td>\n      <td>2022-02-16T13:48:30.000Z</td>\n      <td>{}</td>\n      <td>1493945383529025544</td>\n      <td>NaN</td>\n      <td>en</td>\n      <td>False</td>\n      <td>everyone</td>\n      <td>SocialRabbit Plugin</td>\n      <td>...</td>\n      <td>NaN</td>\n      <td>NaN</td>\n      <td>NaN</td>\n      <td>NaN</td>\n      <td>NaN</td>\n      <td>NaN</td>\n      <td>NaN</td>\n      <td>NaN</td>\n      <td>NaN</td>\n      <td>NaN</td>\n    </tr>\n    <tr>\n      <th>3</th>\n      <td>21150492</td>\n      <td>1493918236835995652</td>\n      <td>2022-02-16T13:48:30.000Z</td>\n      <td>{}</td>\n      <td>1493945386012233730</td>\n      <td>21150492</td>\n      <td>en</td>\n      <td>False</td>\n      <td>everyone</td>\n      <td>Twitter Web App</td>\n      <td>...</td>\n      <td>NaN</td>\n      <td>NaN</td>\n      <td>NaN</td>\n      <td>NaN</td>\n      <td>NaN</td>\n      <td>NaN</td>\n      <td>NaN</td>\n      <td>NaN</td>\n      <td>NaN</td>\n      <td>NaN</td>\n    </tr>\n    <tr>\n      <th>4</th>\n      <td>1416815310217359365</td>\n      <td>1493490191767830531</td>\n      <td>2022-02-16T13:48:32.000Z</td>\n      <td>{}</td>\n      <td>1493945391833915394</td>\n      <td>1404944124906770432</td>\n      <td>en</td>\n      <td>False</td>\n      <td>everyone</td>\n      <td>Twitter for Android</td>\n      <td>...</td>\n      <td>NaN</td>\n      <td>NaN</td>\n      <td>NaN</td>\n      <td>NaN</td>\n      <td>NaN</td>\n      <td>NaN</td>\n      <td>NaN</td>\n      <td>NaN</td>\n      <td>NaN</td>\n      <td>NaN</td>\n    </tr>\n    <tr>\n      <th>...</th>\n      <td>...</td>\n      <td>...</td>\n      <td>...</td>\n      <td>...</td>\n      <td>...</td>\n      <td>...</td>\n      <td>...</td>\n      <td>...</td>\n      <td>...</td>\n      <td>...</td>\n      <td>...</td>\n      <td>...</td>\n      <td>...</td>\n      <td>...</td>\n      <td>...</td>\n      <td>...</td>\n      <td>...</td>\n      <td>...</td>\n      <td>...</td>\n      <td>...</td>\n      <td>...</td>\n    </tr>\n    <tr>\n      <th>8261</th>\n      <td>152459817</td>\n      <td>1493962976273047558</td>\n      <td>2022-02-16T14:58:24.000Z</td>\n      <td>{'place_id': '2635a5d0aa51ce86', 'country': 'U...</td>\n      <td>1493962976273047558</td>\n      <td>NaN</td>\n      <td>en</td>\n      <td>False</td>\n      <td>everyone</td>\n      <td>Twitter for iPhone</td>\n      <td>...</td>\n      <td>NaN</td>\n      <td>NaN</td>\n      <td>NaN</td>\n      <td>NaN</td>\n      <td>NaN</td>\n      <td>NaN</td>\n      <td>NaN</td>\n      <td>NaN</td>\n      <td>NaN</td>\n      <td>NaN</td>\n    </tr>\n    <tr>\n      <th>8262</th>\n      <td>1275156115051950081</td>\n      <td>1493962978802163714</td>\n      <td>2022-02-16T14:58:25.000Z</td>\n      <td>{}</td>\n      <td>1493962978802163714</td>\n      <td>NaN</td>\n      <td>en</td>\n      <td>False</td>\n      <td>everyone</td>\n      <td>Twitter for Android</td>\n      <td>...</td>\n      <td>NaN</td>\n      <td>NaN</td>\n      <td>NaN</td>\n      <td>NaN</td>\n      <td>NaN</td>\n      <td>NaN</td>\n      <td>NaN</td>\n      <td>NaN</td>\n      <td>NaN</td>\n      <td>NaN</td>\n    </tr>\n    <tr>\n      <th>8263</th>\n      <td>6534322</td>\n      <td>1493962973076992000</td>\n      <td>2022-02-16T14:58:24.000Z</td>\n      <td>{}</td>\n      <td>1493962977308983302</td>\n      <td>6534322</td>\n      <td>en</td>\n      <td>False</td>\n      <td>everyone</td>\n      <td>Twitter Web App</td>\n      <td>...</td>\n      <td>NaN</td>\n      <td>NaN</td>\n      <td>NaN</td>\n      <td>NaN</td>\n      <td>NaN</td>\n      <td>NaN</td>\n      <td>NaN</td>\n      <td>NaN</td>\n      <td>NaN</td>\n      <td>NaN</td>\n    </tr>\n    <tr>\n      <th>8264</th>\n      <td>906977492027809792</td>\n      <td>1493962977866924037</td>\n      <td>2022-02-16T14:58:25.000Z</td>\n      <td>{}</td>\n      <td>1493962977866924037</td>\n      <td>NaN</td>\n      <td>en</td>\n      <td>False</td>\n      <td>everyone</td>\n      <td>Twitter for Android</td>\n      <td>...</td>\n      <td>NaN</td>\n      <td>NaN</td>\n      <td>NaN</td>\n      <td>NaN</td>\n      <td>NaN</td>\n      <td>NaN</td>\n      <td>NaN</td>\n      <td>NaN</td>\n      <td>NaN</td>\n      <td>NaN</td>\n    </tr>\n    <tr>\n      <th>8265</th>\n      <td>1474168124786319373</td>\n      <td>1493693753386745859</td>\n      <td>2022-02-16T14:58:26.000Z</td>\n      <td>{}</td>\n      <td>1493962982841270281</td>\n      <td>1448844361844895746</td>\n      <td>en</td>\n      <td>False</td>\n      <td>everyone</td>\n      <td>Twitter for Android</td>\n      <td>...</td>\n      <td>NaN</td>\n      <td>NaN</td>\n      <td>NaN</td>\n      <td>NaN</td>\n      <td>NaN</td>\n      <td>NaN</td>\n      <td>NaN</td>\n      <td>NaN</td>\n      <td>NaN</td>\n      <td>NaN</td>\n    </tr>\n  </tbody>\n</table>\n<p>49596 rows × 148 columns</p>\n</div>"
     },
     "execution_count": 159,
     "metadata": {},
     "output_type": "execute_result"
    }
   ],
   "source": [
    "pd.concat(dfs)"
   ],
   "metadata": {
    "collapsed": false,
    "pycharm": {
     "name": "#%%\n"
    }
   }
  },
  {
   "cell_type": "code",
   "execution_count": null,
   "outputs": [],
   "source": [],
   "metadata": {
    "collapsed": false,
    "pycharm": {
     "name": "#%%\n"
    }
   }
  }
 ],
 "metadata": {
  "interpreter": {
   "hash": "30ac402c65c74fd5beb871d3994bcf5138bba97489ec7be029f1742539aea44e"
  },
  "kernelspec": {
   "name": "python3910jvsc74a57bd030ac402c65c74fd5beb871d3994bcf5138bba97489ec7be029f1742539aea44e",
   "language": "python",
   "display_name": "Python 3.9.10 (conda)"
  },
  "language_info": {
   "codemirror_mode": {
    "name": "ipython",
    "version": 3
   },
   "file_extension": ".py",
   "mimetype": "text/x-python",
   "name": "python",
   "nbconvert_exporter": "python",
   "pygments_lexer": "ipython3",
   "version": "3.9.10"
  },
  "orig_nbformat": 4
 },
 "nbformat": 4,
 "nbformat_minor": 2
}